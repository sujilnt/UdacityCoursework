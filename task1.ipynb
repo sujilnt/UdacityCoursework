{
 "cells": [
  {
   "cell_type": "markdown",
   "metadata": {},
   "source": [
    "####  Task - 1\n",
    "<bold>Print a message </bold> <br/>\n",
    "<ol>\n",
    "    <li><bold>How many different telephone numbers are there in the records?</bold></li>\n",
    "    <li><bold>There are <count> different telephone numbers in the records.</bold></li>\n",
    "</ol>"
   ]
  },
  {
   "cell_type": "code",
   "execution_count": 5,
   "metadata": {},
   "outputs": [],
   "source": [
    "import csv\n",
    "telephone_number = set();"
   ]
  },
  {
   "cell_type": "code",
   "execution_count": 8,
   "metadata": {},
   "outputs": [],
   "source": [
    "# total_different_Total_Number = > returns set of unique of numbers out of the record \n",
    "def total_different_Total_Number(filename,telephone_number_set): \n",
    "    with open(filename, 'r') as f:\n",
    "        remove_duplicates_data=telephone_number_set;  # putting all the phone numbers in set to remove duplicates time # 1\n",
    "        reader = csv.reader(f) # time O(n) \n",
    "        for val in reader: # time O(n)\n",
    "            remove_duplicates_data.add(val[0]) # time O(1) \n",
    "            remove_duplicates_data.add(val[1]) # time O(1)  \n",
    "    return telephone_number"
   ]
  },
  {
   "cell_type": "code",
   "execution_count": 9,
   "metadata": {},
   "outputs": [
    {
     "name": "stdout",
     "output_type": "stream",
     "text": [
      "There are 570 different telephone numbers in the records\n"
     ]
    }
   ],
   "source": [
    "# finding the unique numbers and saving to variable telephone_number of type set . \n",
    "telephone_number = total_different_Total_Number(\"./calls.csv\",telephone_number) # for calls.csv\n",
    "different_numbers =  total_different_Total_Number(\"./texts.csv\",telephone_number) # for texts.csv\n",
    "print(\"There are \"+ str(len(different_numbers)) +\" different telephone numbers in the records\")"
   ]
  },
  {
   "cell_type": "markdown",
   "metadata": {},
   "source": [
    "Runtime Analysis <br/>\n",
    "- The time Complexity for the problem is O(2n+3) which is equvivalent to O(n) <br/>\n",
    "- The best case would be O(2n+3) when finding the first element from the list.<br/>\n",
    "- The worst case would be O(2n+3) when finding the last element from the list.<br/>\n"
   ]
  },
  {
   "cell_type": "code",
   "execution_count": null,
   "metadata": {},
   "outputs": [],
   "source": []
  }
 ],
 "metadata": {
  "hide_input": false,
  "kernelspec": {
   "display_name": "Python 3",
   "language": "python",
   "name": "python3"
  },
  "language_info": {
   "codemirror_mode": {
    "name": "ipython",
    "version": 3
   },
   "file_extension": ".py",
   "mimetype": "text/x-python",
   "name": "python",
   "nbconvert_exporter": "python",
   "pygments_lexer": "ipython3",
   "version": "3.7.3"
  },
  "toc": {
   "base_numbering": 1,
   "nav_menu": {},
   "number_sections": true,
   "sideBar": true,
   "skip_h1_title": false,
   "title_cell": "Table of Contents",
   "title_sidebar": "Contents",
   "toc_cell": false,
   "toc_position": {},
   "toc_section_display": true,
   "toc_window_display": false
  },
  "varInspector": {
   "cols": {
    "lenName": 16,
    "lenType": 16,
    "lenVar": 40
   },
   "kernels_config": {
    "python": {
     "delete_cmd_postfix": "",
     "delete_cmd_prefix": "del ",
     "library": "var_list.py",
     "varRefreshCmd": "print(var_dic_list())"
    },
    "r": {
     "delete_cmd_postfix": ") ",
     "delete_cmd_prefix": "rm(",
     "library": "var_list.r",
     "varRefreshCmd": "cat(var_dic_list()) "
    }
   },
   "types_to_exclude": [
    "module",
    "function",
    "builtin_function_or_method",
    "instance",
    "_Feature"
   ],
   "window_display": false
  }
 },
 "nbformat": 4,
 "nbformat_minor": 2
}
