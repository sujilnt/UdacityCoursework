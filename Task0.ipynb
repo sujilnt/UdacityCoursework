{
 "cells": [
  {
   "cell_type": "markdown",
   "metadata": {},
   "source": [
    "<h4>Task 0 </h4>\n",
    "<br/>\n",
    "    <p><b>Print this message</b></p> \n",
    " <ol>\n",
    "    <li>First record of texts, <b>incoming number</b> texts <b>answering number </b> at time <b>time</b></li>\n",
    "    <li>Last record of calls, <b>incoming number</b> calls <b>answering number</b> at time <b>time.</b></li>\n",
    "</ol>"
   ]
  },
  {
   "cell_type": "code",
   "execution_count": 4,
   "metadata": {},
   "outputs": [],
   "source": [
    "import csv"
   ]
  },
  {
   "cell_type": "code",
   "execution_count": 9,
   "metadata": {},
   "outputs": [],
   "source": [
    "def read_csvFiles(filename, arguments):\n",
    "    with open(filename,'r') as f:\n",
    "        reader = csv.reader(f) # time  n\n",
    "        data = list(reader)  # time  n\n",
    "    index = 0 if arguments == \"first\" else len(data)-1  # time  1 or 2 \n",
    "    return data[index]    #time 1"
   ]
  },
  {
   "cell_type": "code",
   "execution_count": 10,
   "metadata": {},
   "outputs": [
    {
     "name": "stdout",
     "output_type": "stream",
     "text": [
      "First record of texts, 97424 22395 texts 90365 06212 at time 01-09-2016 06:03:22.\n",
      "First record of calls, 9 calls 8 at time 4, lasting 4 seconds\n"
     ]
    }
   ],
   "source": [
    "textsData = read_csvFiles(\"texts.csv\",\"first\") \n",
    "callData= read_csvFiles(\"calls.csv\",\"last\")[0]\n",
    "print(\"First record of texts, \"+ textsData[0] +\" texts \"+ textsData[1] + \" at time \"+ textsData[2] + \".\")\n",
    "print(\"First record of calls, \"+ callData[0] +\" calls \"+ callData[1] + \" at time \"+ callData[2] + \", lasting \"+ callData[3] + \" seconds\" )"
   ]
  },
  {
   "cell_type": "markdown",
   "metadata": {},
   "source": [
    "Runtime Analysis <br/>\n",
    "- The time Complexity for the problem is O(2n+2) which is equvivalent to O(n) <br/>\n",
    "- The best case would be O(2n+2) when finding the first element from the list.<br/>\n",
    "- The worst case would be O(2n+3) when finding the last element from the list.<br/>\n"
   ]
  },
  {
   "cell_type": "code",
   "execution_count": null,
   "metadata": {},
   "outputs": [],
   "source": []
  }
 ],
 "metadata": {
  "hide_input": false,
  "kernelspec": {
   "display_name": "Python 3",
   "language": "python",
   "name": "python3"
  },
  "language_info": {
   "codemirror_mode": {
    "name": "ipython",
    "version": 3
   },
   "file_extension": ".py",
   "mimetype": "text/x-python",
   "name": "python",
   "nbconvert_exporter": "python",
   "pygments_lexer": "ipython3",
   "version": "3.7.3"
  },
  "toc": {
   "base_numbering": 1,
   "nav_menu": {},
   "number_sections": true,
   "sideBar": true,
   "skip_h1_title": false,
   "title_cell": "Table of Contents",
   "title_sidebar": "Contents",
   "toc_cell": false,
   "toc_position": {},
   "toc_section_display": true,
   "toc_window_display": false
  },
  "varInspector": {
   "cols": {
    "lenName": 16,
    "lenType": 16,
    "lenVar": 40
   },
   "kernels_config": {
    "python": {
     "delete_cmd_postfix": "",
     "delete_cmd_prefix": "del ",
     "library": "var_list.py",
     "varRefreshCmd": "print(var_dic_list())"
    },
    "r": {
     "delete_cmd_postfix": ") ",
     "delete_cmd_prefix": "rm(",
     "library": "var_list.r",
     "varRefreshCmd": "cat(var_dic_list()) "
    }
   },
   "types_to_exclude": [
    "module",
    "function",
    "builtin_function_or_method",
    "instance",
    "_Feature"
   ],
   "window_display": false
  }
 },
 "nbformat": 4,
 "nbformat_minor": 2
}
