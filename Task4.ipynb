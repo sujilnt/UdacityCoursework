{
 "cells": [
  {
   "cell_type": "markdown",
   "metadata": {},
   "source": [
    "####  TASK 4:\n",
    "<bold>The telephone company want to identify numbers that might be doing\n",
    "telephone marketing. Create a set of possible telemarketers: <br/>\n",
    " - These are numbers that make outgoing calls but never send texts,\n",
    "receive texts or receive incoming calls.</bold>"
   ]
  },
  {
   "cell_type": "code",
   "execution_count": 37,
   "metadata": {},
   "outputs": [],
   "source": [
    "import csv"
   ]
  },
  {
   "cell_type": "code",
   "execution_count": 38,
   "metadata": {},
   "outputs": [],
   "source": [
    "def read_csv_files(filename):\n",
    "    with open(filename,\"r\") as f:\n",
    "        marketer_list={};\n",
    "        reader = csv.reader(f);\n",
    "        caller = list(reader)\n",
    "        for i in range(len(caller)):\n",
    "            out_caller = caller[i][0]\n",
    "            if out_caller[:3] == \"140\" : \n",
    "                marketer_list[out_caller] = out_caller\n",
    "        return marketer_list"
   ]
  },
  {
   "cell_type": "code",
   "execution_count": 36,
   "metadata": {},
   "outputs": [
    {
     "data": {
      "text/plain": [
       "{'1408371942': '1408371942',\n",
       " '1408409918': '1408409918',\n",
       " '1409994233': '1409994233',\n",
       " '1400481538': '1400481538',\n",
       " '1407539117': '1407539117',\n",
       " '1409668775': '1409668775',\n",
       " '1408672243': '1408672243',\n",
       " '1403072432': '1403072432',\n",
       " '1402316533': '1402316533',\n",
       " '1409421631': '1409421631',\n",
       " '1401747654': '1401747654',\n",
       " '1404787681': '1404787681',\n",
       " '1404073047': '1404073047',\n",
       " '1404368883': '1404368883',\n",
       " '1403579926': '1403579926'}"
      ]
     },
     "execution_count": 36,
     "metadata": {},
     "output_type": "execute_result"
    }
   ],
   "source": [
    "marketerlist = read_csv_files(\"./calls.csv\")\n",
    "print(\"\")"
   ]
  },
  {
   "cell_type": "code",
   "execution_count": null,
   "metadata": {},
   "outputs": [],
   "source": []
  }
 ],
 "metadata": {
  "hide_input": false,
  "kernelspec": {
   "display_name": "Python 3",
   "language": "python",
   "name": "python3"
  },
  "language_info": {
   "codemirror_mode": {
    "name": "ipython",
    "version": 3
   },
   "file_extension": ".py",
   "mimetype": "text/x-python",
   "name": "python",
   "nbconvert_exporter": "python",
   "pygments_lexer": "ipython3",
   "version": "3.7.3"
  },
  "toc": {
   "base_numbering": 1,
   "nav_menu": {},
   "number_sections": true,
   "sideBar": true,
   "skip_h1_title": false,
   "title_cell": "Table of Contents",
   "title_sidebar": "Contents",
   "toc_cell": false,
   "toc_position": {},
   "toc_section_display": true,
   "toc_window_display": false
  },
  "varInspector": {
   "cols": {
    "lenName": 16,
    "lenType": 16,
    "lenVar": 40
   },
   "kernels_config": {
    "python": {
     "delete_cmd_postfix": "",
     "delete_cmd_prefix": "del ",
     "library": "var_list.py",
     "varRefreshCmd": "print(var_dic_list())"
    },
    "r": {
     "delete_cmd_postfix": ") ",
     "delete_cmd_prefix": "rm(",
     "library": "var_list.r",
     "varRefreshCmd": "cat(var_dic_list()) "
    }
   },
   "types_to_exclude": [
    "module",
    "function",
    "builtin_function_or_method",
    "instance",
    "_Feature"
   ],
   "window_display": false
  }
 },
 "nbformat": 4,
 "nbformat_minor": 2
}
