{
 "cells": [
  {
   "cell_type": "markdown",
   "metadata": {},
   "source": [
    "#### Task - 2\n",
    "<br/>\n",
    "<b> Which telephone number spent the longest time on the phone during the period?  Don't forget that time spent answering a call is also time spent on the phone.</b><br/>\n",
    "<ol>\n",
    "    <b>Print this message</b>\n",
    "  <li><b>telephone number</b> spent the longest time, <b>total time</b> seconds, on the phone during September 2016.</li>\n",
    "</ol>"
   ]
  },
  {
   "cell_type": "code",
   "execution_count": 3,
   "metadata": {},
   "outputs": [],
   "source": [
    "import csv"
   ]
  },
  {
   "cell_type": "code",
   "execution_count": 4,
   "metadata": {},
   "outputs": [],
   "source": [
    "def newHighestValue(key,value):\n",
    "    return {\n",
    "        \"time\":value,\n",
    "        \"telephone\": key\n",
    "    }\n",
    "    \n",
    "def read_csv_data(filename):\n",
    "    setofData={};\n",
    "    with open(filename,'r') as f:\n",
    "        reader = csv.reader(f)  #time O(n)\n",
    "        calls = list(reader) #time O(n)\n",
    "        highestValue ={\n",
    "            \"time\": 0,\n",
    "            \"telephone\": \"\"\n",
    "        }\n",
    "    for i in range(len(calls)): #time O(n)\n",
    "        currentValue = calls[i]\n",
    "        time = int(currentValue[3])\n",
    "        sender = currentValue[0]\n",
    "        receiver = currentValue[1]\n",
    "        setofData[sender] = int(setofData[sender]) + time if sender in setofData else time\n",
    "        setofData[receiver] = int(setofData[receiver]) + time if receiver in setofData else time \n",
    "        higherrowValue = sender if setofData[sender] > setofData[receiver] else receiver\n",
    "        highestValue = newHighestValue(higherrowValue,setofData[higherrowValue]) if highestValue[\"time\"] < setofData[higherrowValue] else highestValue \n",
    "    return highestValue"
   ]
  },
  {
   "cell_type": "code",
   "execution_count": 5,
   "metadata": {},
   "outputs": [
    {
     "name": "stdout",
     "output_type": "stream",
     "text": [
      "(080)33251027 spent the longest time, total 90456 seconds, on the phone during September 2016\n"
     ]
    }
   ],
   "source": [
    "finalData = read_csv_data(\"./calls.csv\")\n",
    "print(finalData[\"telephone\"] +\" spent the longest time, total \"+ str(finalData[\"time\"]) +\" seconds, on the phone during September 2016\");"
   ]
  },
  {
   "cell_type": "markdown",
   "metadata": {},
   "source": [
    "Runtime Analysis <br/>\n",
    "- The time Complexity for the problem is O(3n+k) which is equvivalent to O(n), where k is a constant, k<=50 <br/>\n",
    "- The best case would be O(3n+k).<br/>\n",
    "- The worst case would be O(3n+k).<br/>\n"
   ]
  },
  {
   "cell_type": "code",
   "execution_count": null,
   "metadata": {},
   "outputs": [],
   "source": []
  },
  {
   "cell_type": "code",
   "execution_count": null,
   "metadata": {},
   "outputs": [],
   "source": []
  }
 ],
 "metadata": {
  "hide_input": false,
  "kernelspec": {
   "display_name": "Python 3",
   "language": "python",
   "name": "python3"
  },
  "language_info": {
   "codemirror_mode": {
    "name": "ipython",
    "version": 3
   },
   "file_extension": ".py",
   "mimetype": "text/x-python",
   "name": "python",
   "nbconvert_exporter": "python",
   "pygments_lexer": "ipython3",
   "version": "3.7.3"
  },
  "toc": {
   "base_numbering": 1,
   "nav_menu": {},
   "number_sections": true,
   "sideBar": true,
   "skip_h1_title": false,
   "title_cell": "Table of Contents",
   "title_sidebar": "Contents",
   "toc_cell": false,
   "toc_position": {},
   "toc_section_display": true,
   "toc_window_display": false
  },
  "varInspector": {
   "cols": {
    "lenName": 16,
    "lenType": 16,
    "lenVar": 40
   },
   "kernels_config": {
    "python": {
     "delete_cmd_postfix": "",
     "delete_cmd_prefix": "del ",
     "library": "var_list.py",
     "varRefreshCmd": "print(var_dic_list())"
    },
    "r": {
     "delete_cmd_postfix": ") ",
     "delete_cmd_prefix": "rm(",
     "library": "var_list.r",
     "varRefreshCmd": "cat(var_dic_list()) "
    }
   },
   "types_to_exclude": [
    "module",
    "function",
    "builtin_function_or_method",
    "instance",
    "_Feature"
   ],
   "window_display": false
  }
 },
 "nbformat": 4,
 "nbformat_minor": 2
}
