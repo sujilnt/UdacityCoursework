{
 "cells": [
  {
   "cell_type": "markdown",
   "metadata": {},
   "source": [
    "### Task3\n",
    "<p>\n",
    "(080) is the area code for fixed line telephones in Bangalore.Fixed line numbers include parentheses, so Bangalore numbers\n",
    "have the form (080)xxxxxxx.\n",
    "</p>"
   ]
  },
  {
   "cell_type": "code",
   "execution_count": 3,
   "metadata": {},
   "outputs": [],
   "source": [
    "import csv"
   ]
  },
  {
   "cell_type": "code",
   "execution_count": 6,
   "metadata": {},
   "outputs": [],
   "source": [
    "def read_csv_calls(filename,prefix):\n",
    "    count=0\n",
    "    totalcalls=0;\n",
    "    areacodes={};\n",
    "    with open(filename, 'r') as f:\n",
    "        reader = csv.reader(f) # time O(n)\n",
    "        calls = list(reader)   # time O(n)\n",
    "        for i in range(len(calls)):\n",
    "            caller = calls[i][0]  # time O(2)\n",
    "            receiver= calls[i][1]; # time O(2)\n",
    "            count = count +1 if ((caller[:len(prefix)] == prefix[:len(prefix)]) & (receiver[:len(prefix)] == prefix[:len(prefix)])) else count \n",
    "            totalcalls = totalcalls + 1 if ((caller[:len(prefix)] == prefix[:len(prefix)])) else totalcalls\n",
    "            if(caller[:len(prefix)] == prefix[:len(prefix)]):\n",
    "                areacodes[caller] = caller \n",
    "    percentage = count / totalcalls \n",
    "    return {\n",
    "       \"percentage\": round(percentage,2)*100,\n",
    "       \"codes\": areacodes # length 99 \n",
    "   };             "
   ]
  },
  {
   "cell_type": "code",
   "execution_count": 8,
   "metadata": {},
   "outputs": [
    {
     "name": "stdout",
     "output_type": "stream",
     "text": [
      "Wall time: 12 ms\n",
      "The numbers called by people in Bangalore have codes:\n",
      "(080)45291968\n",
      "(080)62164823\n",
      "(080)67362492\n",
      "(080)69245029\n",
      "(080)47459867\n",
      "(080)23802940\n",
      "(080)46304537\n",
      "(080)32255824\n",
      "(080)35986130\n",
      "(080)30270642\n",
      "(080)29435303\n",
      "(080)34121098\n",
      "(080)22816760\n",
      "(080)46772413\n",
      "(080)64765396\n",
      "(080)35121497\n",
      "(080)43685310\n",
      "(080)43215621\n",
      "(080)45547058\n",
      "(080)34932254\n",
      "(080)60068611\n",
      "(080)68104927\n",
      "(080)43562014\n",
      "(080)46566171\n",
      "(080)20227149\n",
      "(080)45687418\n",
      "(080)65275591\n",
      "(080)32390650\n",
      "(080)44050207\n",
      "(080)47999451\n",
      "(080)20123809\n",
      "(080)60062475\n",
      "(080)26097534\n",
      "(080)21652896\n",
      "(080)43206415\n",
      "(080)22759842\n",
      "(080)46702492\n",
      "(080)21129907\n",
      "(080)48462898\n",
      "(080)60463379\n",
      "(080)20383942\n",
      "(080)44076727\n",
      "(080)69609453\n",
      "(080)61123756\n",
      "(080)41203315\n",
      "(080)68739140\n",
      "(080)37913009\n",
      "(080)32638303\n",
      "(080)39755879\n",
      "(080)33251027\n",
      "(080)49328664\n",
      "(080)64047472\n",
      "(080)31982490\n",
      "(080)30231886\n",
      "(080)67426410\n",
      "(080)64819785\n",
      "(080)62963633\n",
      "(080)40929452\n",
      "(080)65023950\n",
      "(080)25863765\n",
      "(080)21697299\n",
      "(080)64015211\n",
      "(080)29483476\n",
      "(080)35538852\n",
      "(080)66044294\n",
      "(080)49796269\n",
      "(080)41712046\n",
      "(080)35987804\n",
      "(080)69564399\n",
      "(080)43901222\n",
      "(080)32828889\n",
      "(080)32647101\n",
      "(080)66857551\n",
      "(080)69150162\n",
      "(080)69104549\n",
      "(080)41336994\n",
      "(080)41095396\n",
      "(080)44357306\n",
      "(080)46221576\n",
      "(080)31863188\n",
      "(080)32679828\n",
      "(080)69887826\n",
      "(080)40362016\n",
      "(080)24444677\n",
      "(080)64431120\n",
      "(080)60998034\n",
      "(080)33277651\n",
      "(080)39991213\n",
      "(080)61419142\n",
      "(080)62342282\n",
      "(080)44389098\n",
      "(080)31606520\n",
      "(080)44046839\n",
      "(080)27498339\n",
      "(080)25820765\n",
      "(080)63623429\n",
      "(080)66955387\n",
      "(080)33118033\n",
      "(080)40395498\n"
     ]
    }
   ],
   "source": [
    "%time data = read_csv_calls(\"./calls.csv\",\"(080)\")\n",
    "print(\"The numbers called by people in Bangalore have codes:\")\n",
    "for code in data[\"codes\"]: # time O(n)\n",
    "    print(code); "
   ]
  },
  {
   "cell_type": "code",
   "execution_count": 59,
   "metadata": {},
   "outputs": [
    {
     "name": "stdout",
     "output_type": "stream",
     "text": [
      "25.0 percent of calls from fixed lines in Bangalore are calls to other fixed lines in Bangalore.\n"
     ]
    }
   ],
   "source": [
    "print(str(data[\"percentage\"]) +\" percent of calls from fixed lines in Bangalore are calls to other fixed lines in Bangalore.\")"
   ]
  },
  {
   "cell_type": "markdown",
   "metadata": {},
   "source": [
    "Runtime Analysis for this Task <br/>\n",
    "- The time Complexity for the problem is O(3n+k) which is equvivalent to O(n), where k is a constant , where k<=50 <br/>\n",
    "- The best case would be O(3n+k).<br/>\n",
    "- The worst case would be O(3n+k).<br/>\n"
   ]
  },
  {
   "cell_type": "code",
   "execution_count": null,
   "metadata": {},
   "outputs": [],
   "source": []
  }
 ],
 "metadata": {
  "hide_input": false,
  "kernelspec": {
   "display_name": "Python 3",
   "language": "python",
   "name": "python3"
  },
  "language_info": {
   "codemirror_mode": {
    "name": "ipython",
    "version": 3
   },
   "file_extension": ".py",
   "mimetype": "text/x-python",
   "name": "python",
   "nbconvert_exporter": "python",
   "pygments_lexer": "ipython3",
   "version": "3.7.3"
  },
  "toc": {
   "base_numbering": 1,
   "nav_menu": {},
   "number_sections": true,
   "sideBar": true,
   "skip_h1_title": false,
   "title_cell": "Table of Contents",
   "title_sidebar": "Contents",
   "toc_cell": false,
   "toc_position": {},
   "toc_section_display": true,
   "toc_window_display": false
  },
  "varInspector": {
   "cols": {
    "lenName": 16,
    "lenType": 16,
    "lenVar": 40
   },
   "kernels_config": {
    "python": {
     "delete_cmd_postfix": "",
     "delete_cmd_prefix": "del ",
     "library": "var_list.py",
     "varRefreshCmd": "print(var_dic_list())"
    },
    "r": {
     "delete_cmd_postfix": ") ",
     "delete_cmd_prefix": "rm(",
     "library": "var_list.r",
     "varRefreshCmd": "cat(var_dic_list()) "
    }
   },
   "types_to_exclude": [
    "module",
    "function",
    "builtin_function_or_method",
    "instance",
    "_Feature"
   ],
   "window_display": false
  }
 },
 "nbformat": 4,
 "nbformat_minor": 2
}
